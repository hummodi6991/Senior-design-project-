{
  "nbformat": 4,
  "nbformat_minor": 0,
  "metadata": {
    "colab": {
      "provenance": []
    },
    "kernelspec": {
      "name": "python3",
      "display_name": "Python 3"
    },
    "language_info": {
      "name": "python"
    }
  },
  "cells": [
    {
      "cell_type": "code",
      "execution_count": 1,
      "metadata": {
        "colab": {
          "base_uri": "https://localhost:8080/"
        },
        "id": "qh5x5dqwl1Sd",
        "outputId": "cfc39b56-f4e6-42c4-9b7c-4ce18f38a19f"
      },
      "outputs": [
        {
          "output_type": "stream",
          "name": "stdout",
          "text": [
            "Mounted at /content/drive\n"
          ]
        }
      ],
      "source": [
        "from google.colab import drive\n",
        "drive.mount('/content/drive')"
      ]
    },
    {
      "cell_type": "code",
      "source": [
        "import cv2\n",
        "import numpy as np\n",
        "import os\n",
        "from scipy.interpolate import UnivariateSpline\n",
        "from google.colab import drive\n",
        "\n",
        "# Mount Google Drive\n",
        "drive.mount('/content/drive')\n",
        "\n",
        "# Define the source and target directories\n",
        "source_dir = '/content/drive/MyDrive/cleaned_images'\n",
        "target_dir = '/content/drive/MyDrive/ansys_importable_files'\n",
        "\n",
        "# Make sure the target directory exists, if not, create it\n",
        "if not os.path.exists(target_dir):\n",
        "    os.makedirs(target_dir)\n",
        "\n",
        "# List all image files in the source directory\n",
        "image_files = [f for f in os.listdir(source_dir) if f.endswith('.png')]\n",
        "\n",
        "# Loop through all image files\n",
        "for image_file in image_files:\n",
        "    # Load the image\n",
        "    image_path = os.path.join(source_dir, image_file)\n",
        "    image = cv2.imread(image_path, cv2.IMREAD_GRAYSCALE)\n",
        "\n",
        "    # Binarize the image\n",
        "    _, binary_image = cv2.threshold(image, 10, 255, cv2.THRESH_BINARY_INV)\n",
        "\n",
        "    # Find contours from the binary image\n",
        "    contours, _ = cv2.findContours(binary_image, cv2.RETR_EXTERNAL, cv2.CHAIN_APPROX_SIMPLE)\n",
        "\n",
        "    # Get the largest contour assuming it is the aerofoil\n",
        "    aerofoil_contour = max(contours, key=lambda x: cv2.contourArea(x))\n",
        "\n",
        "    # Ensure the contour is closed\n",
        "    if not np.array_equal(aerofoil_contour[0], aerofoil_contour[-1]):\n",
        "        aerofoil_contour = np.vstack((aerofoil_contour, aerofoil_contour[0][np.newaxis, :]))\n",
        "\n",
        "    # Extract x and y coordinates\n",
        "    x_coords, y_coords = aerofoil_contour[:, 0, 0], aerofoil_contour[:, 0, 1]\n",
        "\n",
        "    # Correct the orientation by flipping the y-coordinates\n",
        "    max_y = max(y_coords)\n",
        "    corrected_y_coords = [max_y - y for y in y_coords]\n",
        "\n",
        "    # Parametrize the curve by cumulative arc length\n",
        "    arc_lengths = np.zeros(len(x_coords))\n",
        "    for i in range(1, len(x_coords)):\n",
        "        arc_lengths[i] = arc_lengths[i-1] + np.sqrt((x_coords[i] - x_coords[i-1])**2 + (corrected_y_coords[i] - corrected_y_coords[i-1])**2)\n",
        "    arc_lengths /= arc_lengths[-1]\n",
        "\n",
        "    # Adjust the smoothing factor\n",
        "    smoothing_factor = 0.3 * len(x_coords)  # This value can be adjusted\n",
        "\n",
        "    # Fit splines to the x and y coordinates as a function of the normalized arc length\n",
        "    spline_x = UnivariateSpline(arc_lengths, x_coords, s=smoothing_factor)\n",
        "    spline_y = UnivariateSpline(arc_lengths, corrected_y_coords, s=smoothing_factor)\n",
        "\n",
        "    # Generate a smoothed curve\n",
        "    smoothed_arc_length = np.linspace(0, 1, 500)\n",
        "    smoothed_x = spline_x(smoothed_arc_length)\n",
        "    smoothed_y = spline_y(smoothed_arc_length)\n",
        "\n",
        "    # Ensure the curve is closed by setting the last point to the first\n",
        "    smoothed_x[-1], smoothed_y[-1] = smoothed_x[0], smoothed_y[0]\n",
        "\n",
        "    # Define the .dat file path\n",
        "    dat_file_path = os.path.join(target_dir, os.path.splitext(image_file)[0] + '.dat')\n",
        "\n",
        "    # Write the coordinates to the .dat file\n",
        "    with open(dat_file_path, 'w') as file:\n",
        "        file.write('! ANSYS data file created by custom script\\n')\n",
        "        file.write('/PREP7\\n')\n",
        "        file.write('! Define keypoints\\n')\n",
        "        for i, (x, y) in enumerate(zip(smoothed_x, smoothed_y)):\n",
        "            file.write(f'K,{i+1}, {x}, {y}\\n')\n",
        "\n",
        "        file.write('! Define lines between keypoints\\n')\n",
        "        for i in range(len(smoothed_x)):\n",
        "            file.write(f'L,{i+1},{(i+1) % len(smoothed_x) + 1}\\n')\n",
        "\n",
        "        file.write('FINISH\\n')\n",
        "\n",
        "print(\"Processing completed. Data files suitable for ANSYS import are saved in:\", target_dir)"
      ],
      "metadata": {
        "colab": {
          "base_uri": "https://localhost:8080/"
        },
        "id": "XlBYHykK-rm2",
        "outputId": "a13b1e92-c965-4f0f-c048-4fb68f642f0c"
      },
      "execution_count": 19,
      "outputs": [
        {
          "output_type": "stream",
          "name": "stdout",
          "text": [
            "Drive already mounted at /content/drive; to attempt to forcibly remount, call drive.mount(\"/content/drive\", force_remount=True).\n",
            "Processing completed. Data files suitable for ANSYS import are saved in: /content/drive/MyDrive/ansys_importable_files\n"
          ]
        }
      ]
    },
    {
      "cell_type": "code",
      "source": [
        "import matplotlib.pyplot as plt\n",
        "import os\n",
        "from google.colab import drive\n",
        "\n",
        "# Mount Google Drive\n",
        "drive.mount('/content/drive')\n",
        "\n",
        "# Define the target directory containing .dat files\n",
        "target_dir = '/content/drive/MyDrive/ansys_importable_files'\n",
        "\n",
        "# List all .dat files in the target directory\n",
        "dat_files = [f for f in os.listdir(target_dir) if f.endswith('.dat')]\n",
        "\n",
        "# Loop through all .dat files\n",
        "for dat_file in dat_files:\n",
        "    keypoints = []\n",
        "    # Read the keypoints from the .dat file\n",
        "    with open(os.path.join(target_dir, dat_file), 'r') as file:\n",
        "        for line in file:\n",
        "            if line.startswith('K,'):\n",
        "                parts = line.split(',')\n",
        "                # Extract the x and y coordinates\n",
        "                x, y = float(parts[2].strip()), float(parts[3].strip())\n",
        "                keypoints.append((x, y))\n",
        "\n",
        "    # Convert the list of tuples into a list of X and Y coordinates for plotting\n",
        "    x_coords, y_coords = zip(*keypoints)\n",
        "\n",
        "    # Plot the keypoints\n",
        "    plt.figure(figsize=(10, 5))\n",
        "    plt.plot(x_coords, y_coords, '-o', label='Aerofoil Profile')\n",
        "    plt.legend()\n",
        "    plt.title('Aerofoil Profile Visualization')\n",
        "    plt.xlabel('X coordinate')\n",
        "    plt.ylabel('Y coordinate')\n",
        "    plt.axis('equal')\n",
        "    plt.grid(True)\n",
        "\n",
        "    # Save the plot as an image file\n",
        "    image_filename = os.path.splitext(dat_file)[0] + '.png'\n",
        "    plt.savefig(os.path.join(target_dir, image_filename))\n",
        "    plt.close()  # Close the figure to free memory\n",
        "\n",
        "print(\"Visualization completed. Plots are saved in:\", target_dir)"
      ],
      "metadata": {
        "colab": {
          "base_uri": "https://localhost:8080/"
        },
        "id": "pRZk_mbZ_pb1",
        "outputId": "f2d85413-ef22-4345-cee0-3b9e672dc9c3"
      },
      "execution_count": 20,
      "outputs": [
        {
          "output_type": "stream",
          "name": "stdout",
          "text": [
            "Drive already mounted at /content/drive; to attempt to forcibly remount, call drive.mount(\"/content/drive\", force_remount=True).\n",
            "Visualization completed. Plots are saved in: /content/drive/MyDrive/ansys_importable_files\n"
          ]
        }
      ]
    }
  ]
}